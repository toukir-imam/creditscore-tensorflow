{
 "cells": [
  {
   "cell_type": "markdown",
   "metadata": {},
   "source": [
    "# Data Exploration"
   ]
  },
  {
   "cell_type": "markdown",
   "metadata": {},
   "source": [
    "## Null Values"
   ]
  },
  {
   "cell_type": "markdown",
   "metadata": {},
   "source": [
    "After loading the dataset in out ipython interpreter as numpy array, we have to check to see if there are any missing values in the dataset. If there are, we have to deal with the missing values first. \n"
   ]
  },
  {
   "cell_type": "code",
   "execution_count": 2,
   "metadata": {},
   "outputs": [
    {
     "name": "stdout",
     "output_type": "stream",
     "text": [
      "False\n"
     ]
    }
   ],
   "source": [
    "import numpy as np\n",
    "import csv\n",
    "f = open('creditcard.csv')\n",
    "\n",
    "# read the header line\n",
    "header = f.readline() \n",
    "\n",
    "# read rest of the data\n",
    "data = list(csv.reader(f, delimiter=\",\",))\n",
    "\n",
    "#seperate features and the class column. Convert features into float and class to int\n",
    "np_data = np.asarray(data).astype(float)\n",
    "print (np.isnan(np_data).any())\n"
   ]
  },
  {
   "cell_type": "markdown",
   "metadata": {},
   "source": [
    "This shows that there are no null or empty values in the datafile. Therefore we can proceed without worrying about empty values."
   ]
  },
  {
   "cell_type": "markdown",
   "metadata": {},
   "source": [
    "## Number of Instances in Each Class\n",
    "Intuatively there should be a lot more normal transections than fraudulent transactions. To see how unbalanced the dataset is, we count the number of instances with normal transection and the number of instances with fraudulent transaction. "
   ]
  },
  {
   "cell_type": "code",
   "execution_count": 23,
   "metadata": {},
   "outputs": [
    {
     "name": "stdout",
     "output_type": "stream",
     "text": [
      "Fraudalent transactions : 492\n",
      "Non fraudulent transactions : 284315\n"
     ]
    },
    {
     "data": {
      "image/png": "[encoded data removed]",
      "text/plain": [
       "<matplotlib.figure.Figure at 0x7f17e78e4828>"
      ]
     },
     "metadata": {},
     "output_type": "display_data"
    }
   ],
   "source": [
    "#import matplotlib for graph\n",
    "import matplotlib.pyplot as plt\n",
    "\n",
    "#seperate feature columns and target column\n",
    "X = np_data[:,:-1]\n",
    "y = np.ravel(np_data[:,-1:]).astype(int)\n",
    "\n",
    "#count the number of fraudulent and non fraudulent transections\n",
    "fraud = np.count_nonzero(y)\n",
    "non_fraud = len(y)-fraud\n",
    "\n",
    "#print result and show in a bar chart\n",
    "print(\"Fraudalent transactions : \" + str(fraud) + \"\\nNon fraudulent transactions : \"+str(non_fraud))\n",
    "plt.bar(['Fraudulent','Non Fraudulent'],[fraud,non_fraud])\n",
    "plt.ylabel(\"# of transections\")\n",
    "plt.title(\"Fraudulent vs Non Fraudulent transactions\")\n",
    "plt.show()"
   ]
  },
  {
   "cell_type": "markdown",
   "metadata": {},
   "source": [
    "The result shows that there are a lot more Normal transection compared to fraudulant transection. This imbalance can complicate our prediction model and result."
   ]
  },
  {
   "cell_type": "markdown",
   "metadata": {},
   "source": [
    "## Mean and Spread\n",
    "Next we check the mean and the standard deviation of the features."
   ]
  },
  {
   "cell_type": "code",
   "execution_count": 36,
   "metadata": {},
   "outputs": [
    {
     "data": {
      "text/plain": [
       "array([ 3.91864870e-15,  5.68268579e-16, -8.76173610e-15,  2.81111774e-15,\n",
       "       -1.55210305e-15,  2.04012968e-15, -1.69895265e-15, -1.95815061e-16,\n",
       "       -3.14764036e-15,  1.77292451e-15,  9.28952385e-16, -1.80326603e-15,\n",
       "        1.67488824e-15,  1.47562122e-15,  3.50109813e-15,  1.39243845e-15,\n",
       "       -7.46653801e-16,  4.25873794e-16,  9.02016885e-16,  5.12684532e-16,\n",
       "        1.47198194e-16,  8.04210901e-16,  5.28245009e-16,  4.45826738e-15,\n",
       "        1.42689564e-15,  1.70163965e-15, -3.67160561e-16, -1.21815215e-16,\n",
       "        8.83496193e+01])"
      ]
     },
     "execution_count": 36,
     "metadata": {},
     "output_type": "execute_result"
    }
   ],
   "source": [
    "np.mean(X,axis=0)\n"
   ]
  },
  {
   "cell_type": "code",
   "execution_count": 37,
   "metadata": {},
   "outputs": [
    {
     "data": {
      "text/plain": [
       "array([  1.95869237,   1.65130568,   1.51625234,   1.41586609,\n",
       "         1.38024431,   1.33226875,   1.23709143,   1.19435081,\n",
       "         1.09863016,   1.08884785,   1.02071124,   0.99919964,\n",
       "         0.99527248,   0.95859393,   0.9153144 ,   0.87625135,\n",
       "         0.84933557,   0.83817474,   0.81403907,   0.77092367,\n",
       "         0.73452272,   0.72570029,   0.6244592 ,   0.605646  ,\n",
       "         0.52127716,   0.48222617,   0.40363179,   0.33008268,\n",
       "       250.11967014])"
      ]
     },
     "execution_count": 37,
     "metadata": {},
     "output_type": "execute_result"
    }
   ],
   "source": [
    "np.std(X,axis=0)"
   ]
  },
  {
   "cell_type": "markdown",
   "metadata": {},
   "source": [
    "We notice that the mean and std of the amount column is very different from the other features. For some classifiers, we will need to normalize the dataset."
   ]
  },
  {
   "cell_type": "markdown",
   "metadata": {},
   "source": [
    "## The Time Column\n",
    "It is possible that the fraudulent transections are more frequent at certain parts of the day or certain days of the week. To see if fraudulent transections and time are related, we draw the following two graphs. The first one shows fradulent transetions over time and the second one shows normal transections over time.\n"
   ]
  },
  {
   "cell_type": "code",
   "execution_count": 13,
   "metadata": {},
   "outputs": [
    {
     "data": {
      "image/png": "[encoded data removed]",
      "text/plain": [
       "<matplotlib.figure.Figure at 0x7f17e1ed4e10>"
      ]
     },
     "metadata": {},
     "output_type": "display_data"
    }
   ],
   "source": [
    "frauds = np_data[np.nonzero(np_data[:,-1:])[0]]\n",
    "normal = np_data[np.nonzero(1-np_data[:,-1:])[0]]\n",
    "fraud_x = frauds[:,0]\n",
    "fraud_y = frauds[:,-2]\n",
    "normal_x = normal[:,0]\n",
    "normal_y = normal[:,-2]\n",
    "plt.scatter(fraud_x,fraud_y,c='r')\n",
    "plt.xlabel(\"time(in seconds)\")\n",
    "plt.ylabel(\"transaction amount\")\n",
    "plt.title(\"fraudulent transactions over time\")\n",
    "plt.show()"
   ]
  },
  {
   "cell_type": "code",
   "execution_count": 14,
   "metadata": {},
   "outputs": [
    {
     "data": {
      "image/png": "[encoded data removed]",
      "text/plain": [
       "<matplotlib.figure.Figure at 0x7f17e7b8ba20>"
      ]
     },
     "metadata": {},
     "output_type": "display_data"
    }
   ],
   "source": [
    "plt.scatter(normal_x,normal_y,c='b')\n",
    "plt.xlabel(\"time(in seconds)\")\n",
    "plt.ylabel(\"transaction amount\")\n",
    "plt.title(\"Normal transactions over time\")\n",
    "plt.show()"
   ]
  },
  {
   "cell_type": "markdown",
   "metadata": {},
   "source": [
    "From the two graphs we can see that, although Normal transections show certain \"peak hours\", both transations are almost evenly dirstributed over time. As such we discard the time column from our feature list in the preprocessing step. We note that the dataset covers a little over 2 days. If the dataset covered a longer period of time, a time series analysis of the dataset (such as LSTM) could have been useful."
   ]
  },
  {
   "cell_type": "markdown",
   "metadata": {},
   "source": [
    "## Baseline Prediction\n",
    "Since there are more normal transactions than fradulant transactions, we formulate a baseline predictor or a \"stupid predictor\" which predicts every transection as normal transection. The accuracy of this baseline predictor can then be compared with our classification models for evaluation purpose.  \n",
    "The accuracy of the baseline predictor is :\n"
   ]
  },
  {
   "cell_type": "code",
   "execution_count": 15,
   "metadata": {},
   "outputs": [
    {
     "name": "stdout",
     "output_type": "stream",
     "text": [
      "Baseline prediction accuracy : 0.9982725143693799\n"
     ]
    }
   ],
   "source": [
    "frud = np.count_nonzero(y)\n",
    "score = ((len(y)-frud)/len(y))\n",
    "print(\"Baseline prediction accuracy : \" + str(score))"
   ]
  },
  {
   "cell_type": "markdown",
   "metadata": {},
   "source": [
    "Therefore the baseline predictor is 99.82% accurate.  \n"
   ]
  },
  {
   "cell_type": "markdown",
   "metadata": {},
   "source": [
    "#  Preprocessing\n",
    "Based on the analysis in the last section, we remove the time column from the feature list and normalize the feature matrix."
   ]
  },
  {
   "cell_type": "code",
   "execution_count": 3,
   "metadata": {
    "collapsed": true
   },
   "outputs": [],
   "source": [
    "from sklearn import preprocessing\n",
    "#remove time column from feature matrix\n",
    "X = np_data[:,1:-1]\n",
    "\n",
    "y = np.ravel(np_data[:,-1:]).astype(int)\n",
    "\n",
    "#scale the featrue matrix to have unit variance.\n",
    "X = preprocessing.scale(X)"
   ]
  },
  {
   "cell_type": "markdown",
   "metadata": {},
   "source": [
    "#  Classification Models\n",
    "##  Logistic regression\n",
    "Logistic regression is a log-linear classifier that uses stocastic gradient descent to minimize L2-log loss function. Because it is so simple and fast, we will try logistic regression first. We will use 5-fold cross validation to evaluate our model. We calculate the accuracy as well as the precision, recall and f1 score of the model. "
   ]
  },
  {
   "cell_type": "code",
   "execution_count": 17,
   "metadata": {},
   "outputs": [
    {
     "name": "stdout",
     "output_type": "stream",
     "text": [
      "Mean accuracy : 0.9976475363876751\n",
      "Precision : 0.0011111111111111111\n",
      "Recall : 0.00202020202020202\n",
      "F1 : 0.0014336917562724016\n"
     ]
    }
   ],
   "source": [
    "from sklearn import linear_model\n",
    "from sklearn.model_selection import cross_validate\n",
    "from sklearn.metrics import confusion_matrix\n",
    "#ignore FutureWarnings\n",
    "import warnings\n",
    "from sklearn import exceptions\n",
    "warnings.filterwarnings(\"ignore\", category=FutureWarning)\n",
    "warnings.filterwarnings(\"ignore\", category=exceptions.UndefinedMetricWarning)\n",
    "\n",
    "#create logistic regression classifier\n",
    "clf = linear_model.SGDClassifier(loss='log')\n",
    "\n",
    "#dictionary for scoring matrices\n",
    "scoring = {'acc': 'accuracy',\n",
    "           'precision': 'precision',\n",
    "           'recall': 'recall',\n",
    "           'f1':'f1'}\n",
    "\n",
    "#do 5 fold evaluation\n",
    "scores = cross_validate(clf, X, y,scoring=scoring, cv=5)\n",
    "\n",
    "#print mean scores\n",
    "print (\"Mean accuracy : \" + str(np.mean(scores['test_acc'])))\n",
    "\n",
    "#Future implementation: We should really consider F1 instead of mean accuracy as the true performance measure of the model\n",
    "\n",
    "print (\"Precision : \" + str(np.mean(scores['test_precision'])))\n",
    "print (\"Recall : \" + str(np.mean(scores['test_recall'])))\n",
    "print (\"F1 : \" + str(np.mean(scores['test_f1'])))"
   ]
  },
  {
   "cell_type": "markdown",
   "metadata": {},
   "source": [
    "Therefore logistic regression gives nus 99.90% accuracy.  \n",
    "**N.B Due to the imbalance in the data, we should really use preision,recall, and, f1 score as the true measure of the performance of a model, however due to lack of time I couldn't finish implementing this for the rest of the models and decided to simply use accuracy for this report**"
   ]
  },
  {
   "cell_type": "markdown",
   "metadata": {},
   "source": [
    "## Logistic Regression with Undersampling\n",
    "Since the classes are imbalanced (i.e there are too many normal transactions compared to fraudulant transactions), this can skew the learning algorithm. One possibl way to fix it is to do undersampling. In the folliwng code, we undersample the normal transection class and only take 40000 instances from that class for training. This 40000 number has been choosen empirically by some trial and error."
   ]
  },
  {
   "cell_type": "code",
   "execution_count": 9,
   "metadata": {},
   "outputs": [
    {
     "name": "stdout",
     "output_type": "stream",
     "text": [
      "Mean accuracy : 0.999248613320227\n"
     ]
    }
   ],
   "source": [
    "from sklearn.model_selection import KFold\n",
    "\n",
    "#K-fold splitting\n",
    "kf = KFold(n_splits=5,shuffle=True)\n",
    "kf.get_n_splits(X)\n",
    "accuracy_score =[] \n",
    "\n",
    "for train_index, test_index in kf.split(X):\n",
    "    X_train, X_test = X[train_index], X[test_index]\n",
    "    y_train, y_test = y[train_index], y[test_index]\n",
    "    \n",
    "    \n",
    "    #seperate fraudulent and normal transections \n",
    "    fraud_idx = np.nonzero(y_train)[0]\n",
    "    normal_idx = np.nonzero(1-y_train)[0]\n",
    "\n",
    "    fraud_X = X_train[fraud_idx]\n",
    "    fraud_y = y_train[fraud_idx]\n",
    "    normal_X = X_train[normal_idx]\n",
    "    normal_y = y_train[normal_idx]\n",
    "    \n",
    "    #take only 40000 random rows from the normal transection class\n",
    "    rand_choice = np.random.randint(normal_X.shape[0], size=50000)\n",
    "    normal_X = normal_X[rand_choice,:]\n",
    "    normal_y = normal_y[rand_choice]\n",
    "    \n",
    "    #keep all fraudulant transections\n",
    "    X_train = np.vstack((normal_X,fraud_X))\n",
    "    y_train = np.hstack((normal_y,fraud_y))\n",
    "    \n",
    "    #build model\n",
    "    clf = linear_model.SGDClassifier(loss='log')\n",
    "\n",
    "    #train model\n",
    "    clf.fit(X_train,y_train)\n",
    "    \n",
    "    #predict\n",
    "    accuracy_score.append(clf.score(X_test,y_test))\n",
    "    \n",
    "print(\"Mean accuracy : \" + str(np.mean(accuracy_score)))"
   ]
  },
  {
   "cell_type": "markdown",
   "metadata": {},
   "source": [
    "The Logistic regression with undersampling gives us slightly better accuracy at 99.92%."
   ]
  },
  {
   "cell_type": "markdown",
   "metadata": {},
   "source": [
    "## Support Vector Machine\n",
    "Support vecto machine is another classifier that is very effective in datasets with high dimensions. Here we will use a support vector machine with non linear kernel. We will again do a 5 fold cross validation to evaluate our model. The parameter C is chosen empirically after trying with some different values."
   ]
  },
  {
   "cell_type": "code",
   "execution_count": null,
   "metadata": {},
   "outputs": [],
   "source": [
    "from sklearn import svm\n",
    "\n",
    "#create a svm classifier with rbf kernel\n",
    "clf = svm.SVC(kernel='rbf', C=1)\n",
    "\n",
    "#do 5 fold evaluation\n",
    "scores = cross_validate(clf, X, y,scoring = scoring, cv=5)\n",
    "\n",
    "#print mean scores\n",
    "print (\"Mean accuracy : \" + str(np.mean(scores['test_acc'])))\n",
    "#print (\"Precision : \" + str(np.mean(scores['test_precision'])))\n",
    "#print (\"Recall : \" + str(np.mean(scores['test_recall'])))\n",
    "#print (\"F1 : \" + str(np.mean(scores['test_f1'])))"
   ]
  },
  {
   "cell_type": "markdown",
   "metadata": {},
   "source": [
    "Mean accuracy =~ .9980  \n",
    "Therefore SVM performed worse than logistic regression with 99.80% accuracy."
   ]
  },
  {
   "cell_type": "markdown",
   "metadata": {},
   "source": [
    "## Deep Neural Net\n",
    "Finally we try a deep neural net with three layers that is capable of forming much complex decision boundaries. We will use the Tensorflow library to perform DNN classification. The network size and number of steps are chosen empirically after doing some manual testing."
   ]
  },
  {
   "cell_type": "code",
   "execution_count": null,
   "metadata": {
    "collapsed": true
   },
   "outputs": [],
   "source": [
    "import tensorflow as tf\n",
    "from sklearn.model_selection import KFold\n",
    "# Specify that all features have real-value data\n",
    "feature_columns = [tf.feature_column.numeric_column(\"x\", shape=[29])]\n",
    "\n",
    "# Build 3 layer DNN with 20,50,20 units respectively.\n",
    "classifier = tf.estimator.DNNClassifier(feature_columns=feature_columns,\n",
    "                                        hidden_units=[20, 50, 20],\n",
    "                                        n_classes=2,\n",
    "                                        )\n",
    "\n",
    "\n",
    "# Find the indices for 5-fold cross validation\n",
    "kf = KFold(n_splits=5,shuffle=True)\n",
    "kf.get_n_splits(X)\n",
    "\n",
    "accuracy_score =[] \n",
    "\n",
    "#perform 5 fold cross validation\n",
    "for train_index, test_index in kf.split(X):\n",
    "    X_train, X_test = X[train_index], X[test_index]\n",
    "    y_train, y_test = y[train_index], y[test_index]\n",
    "    \n",
    "    #specify the training set\n",
    "    train_input_fn = tf.estimator.inputs.numpy_input_fn(\n",
    "        x={\"x\": X_train},\n",
    "        y=y_train,\n",
    "        num_epochs=None,\n",
    "        shuffle=True)\n",
    "    \n",
    "    #train the DNN with 2000 steps\n",
    "    classifier.train(input_fn=train_input_fn, steps=2000)\n",
    "\n",
    "    #specify the test set\n",
    "    test_input_fn = tf.estimator.inputs.numpy_input_fn(\n",
    "        x={\"x\": X_test},\n",
    "        y=y_test,\n",
    "        num_epochs=1,\n",
    "        shuffle=False)\n",
    "\n",
    "    # Evaluate accuracy.\n",
    "    accuracy_score.append(classifier.evaluate(input_fn=test_input_fn)[\"accuracy\"])\n",
    "\n",
    "print(\"\\nTest Accuracy: {0:f}\\n\".format(np.mean(accuracy_score)))\n"
   ]
  },
  {
   "cell_type": "markdown",
   "metadata": {},
   "source": [
    "Test Accuracy: 0.999428"
   ]
  },
  {
   "cell_type": "markdown",
   "metadata": {},
   "source": [
    "With 99.94% accuracy DNN classifier gives us the best accuracy so far."
   ]
  },
  {
   "cell_type": "markdown",
   "metadata": {},
   "source": [
    "# Results\n",
    "\n",
    "|               | Baseline | Logistic Regression |Logistic Regression (with undersampling) | SVM (rbf kernel) | DNN Classifier |\n",
    "| ------------- |:--------:|:-------------------:|:--------------------------------------:|:---------------:|--------------:|\n",
    "| Accuracy      | 99.82    |    99.90            |  99.92             |   99.80         | 99.94           |\n",
    "\n"
   ]
  },
  {
   "cell_type": "code",
   "execution_count": 25,
   "metadata": {
    "scrolled": true
   },
   "outputs": [
    {
     "data": {
      "image/png": "[encoded data removed]",
      "text/plain": [
       "<matplotlib.figure.Figure at 0x7f17e77f3518>"
      ]
     },
     "metadata": {},
     "output_type": "display_data"
    }
   ],
   "source": [
    "#draw result graph\n",
    "plt.bar(['Baseline','LR','LR(undersampling)','SVM','DNN'],[99.82,99.90,99.92,99.80,99.94])\n",
    "plt.ylabel(\"Accuracy\")\n",
    "plt.ylim(99,100)\n",
    "plt.title(\"Results of Different Classifiers\")\n",
    "plt.show()"
   ]
  },
  {
   "cell_type": "markdown",
   "metadata": {},
   "source": [
    "From the table and the graph above we can see that the DNN classifier performs the best, followed closely by Logistic regression with undersampling."
   ]
  },
  {
   "cell_type": "markdown",
   "metadata": {
    "collapsed": true
   },
   "source": []
  }
 ],
 "metadata": {
  "kernelspec": {
   "display_name": "Python 3",
   "language": "python",
   "name": "python3"
  },
  "language_info": {
   "codemirror_mode": {
    "name": "ipython",
    "version": 3
   },
   "file_extension": ".py",
   "mimetype": "text/x-python",
   "name": "python",
   "nbconvert_exporter": "python",
   "pygments_lexer": "ipython3",
   "version": "3.7.1"
  }
 },
 "nbformat": 4,
 "nbformat_minor": 2
}
